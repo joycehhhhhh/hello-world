{
 "cells": [
  {
   "cell_type": "markdown",
   "id": "03bf3ba0-2459-4eec-8be7-49acab498a7b",
   "metadata": {},
   "source": [
    "## Bar Chart"
   ]
  },
  {
   "cell_type": "code",
   "execution_count": null,
   "id": "c366f46a-51d8-4aac-842c-2c1b55f629b5",
   "metadata": {},
   "outputs": [],
   "source": [
    "import numpy as np\n",
    "import pandas as pd\n",
    "import matplotlib.pyplot as plt\n",
    "import seaborn as sb\n",
    "%matplotlib inline"
   ]
  },
  {
   "cell_type": "code",
   "execution_count": null,
   "id": "0e1ac087-a82c-4f10-9112-0a4f3a70342c",
   "metadata": {},
   "outputs": [],
   "source": [
    "#Seaborn\n",
    "base_color=sb.color_palette()[0]\n",
    "sb.countplot(x='col',data=df, order=[,],color=base_color)\n",
    "sb.countplot(x='col',data=df, order=df.sort_values('col'))"
   ]
  },
  {
   "cell_type": "code",
   "execution_count": null,
   "id": "f7d3415d-830e-4dc3-9058-43e351b05b2a",
   "metadata": {},
   "outputs": [],
   "source": [
    "#PLT\n",
    "plt.bar(x,y)\n",
    "plt.barh(y,x)\n",
    "plt.xlabel('xlabel')\n",
    "plt.ylabel('ylaeel')\n",
    "plt.title('title')\n",
    "plt.show()"
   ]
  },
  {
   "cell_type": "markdown",
   "id": "47a271bf-a43e-481e-a6e7-32ae9d8e7f4d",
   "metadata": {},
   "source": [
    "## Clustered Bar Chart"
   ]
  },
  {
   "cell_type": "code",
   "execution_count": null,
   "id": "6e5744de-ac7a-49cb-a8f3-aa500e195ea2",
   "metadata": {},
   "outputs": [],
   "source": [
    "#Seaborn\n",
    "sb.countplot(data=df,x='col1',hue='col2')"
   ]
  },
  {
   "cell_type": "markdown",
   "id": "1dee7bfc-d819-43a0-9d2e-3b360e10fd93",
   "metadata": {},
   "source": [
    "## Adapted Plot"
   ]
  },
  {
   "cell_type": "code",
   "execution_count": null,
   "id": "3b10ece7-033a-4df4-8db0-f28af25d49be",
   "metadata": {},
   "outputs": [],
   "source": [
    "#Seaborn\n",
    "sb.barplot(data=df,x='xcol',y='ycol',errwidth=0,ci='sd')"
   ]
  },
  {
   "cell_type": "code",
   "execution_count": null,
   "id": "f5ab7287-050e-46fb-89b9-df22b2854fb1",
   "metadata": {},
   "outputs": [],
   "source": [
    "sb.pointplot(data=df,x='xcol',y='ycol',ci='sd',linestyles='')"
   ]
  },
  {
   "cell_type": "markdown",
   "id": "2513e666-6e4e-4fd0-95e1-925627ef31f1",
   "metadata": {},
   "source": [
    "## Scatter Plot"
   ]
  },
  {
   "cell_type": "code",
   "execution_count": null,
   "id": "acc14c18-805b-402d-92e3-46922d945617",
   "metadata": {},
   "outputs": [],
   "source": [
    "#PLT\n",
    "plt.scatter(data=df,x='col',y='col',alpha=1/20)"
   ]
  },
  {
   "cell_type": "code",
   "execution_count": null,
   "id": "940db6bf-231d-42da-8c04-86f535ff3bcb",
   "metadata": {},
   "outputs": [],
   "source": [
    "#Seaborn\n",
    "sb.regplot(data=df,x='col',y='col',fit_reg=True,truncate=False,x_jitter=0.3,scatter_kws={'alpha':1/20})"
   ]
  },
  {
   "cell_type": "markdown",
   "id": "a14715e7-7b29-48ec-b4c0-32d7b1e05c0d",
   "metadata": {},
   "source": [
    "## Pie Chart"
   ]
  },
  {
   "cell_type": "code",
   "execution_count": null,
   "id": "e24ba570-314e-47f1-a501-33d93ade68d4",
   "metadata": {},
   "outputs": [],
   "source": [
    "#PLT\n",
    "plt.pie(df['col'].value_counts(),label=df['col'].index,startangle=90, counterclock=False)\n",
    "#Donut\n",
    "plt.pie(df['col'].value_counts(),label=df['col'].index,startangle=90, counterclock=False,wedgeprops={'width':0.6})"
   ]
  },
  {
   "cell_type": "markdown",
   "id": "caba7acb-aa4f-4b68-b03e-7f4ae8391986",
   "metadata": {},
   "source": [
    "## Histogram"
   ]
  },
  {
   "cell_type": "code",
   "execution_count": null,
   "id": "49c25cae-54ef-447f-95fb-25249517502e",
   "metadata": {},
   "outputs": [],
   "source": [
    "#PLT\n",
    "plt.hist(data=df,x='col',bins=np.arange(0,max(df['col'])+6,6),rwidth=0.6)\n",
    "plt.xticks(np.arange(2,max+1,1))\n",
    "plt.xlim(0,6)"
   ]
  },
  {
   "cell_type": "code",
   "execution_count": null,
   "id": "a4645624-72c6-42a7-81c3-465fa82f5966",
   "metadata": {},
   "outputs": [],
   "source": [
    "#Seaborn\n",
    "sb.displot(df['col'],kde=False,bins=6,hist_kws={'alpha':1})"
   ]
  },
  {
   "cell_type": "markdown",
   "id": "f9f0d3c6-6995-4180-a54d-0b47590ac6a5",
   "metadata": {},
   "source": [
    "## Box Chart"
   ]
  },
  {
   "cell_type": "code",
   "execution_count": null,
   "id": "840d77b4-1d9f-45c7-baaa-55af1210ea15",
   "metadata": {},
   "outputs": [],
   "source": [
    "#Seaborn\n",
    "sb.boxplot(data=df,x='col',y='col')"
   ]
  },
  {
   "cell_type": "markdown",
   "id": "d6edb901-ac97-417b-a8e6-5f4b535da1fe",
   "metadata": {},
   "source": [
    "## Faceting"
   ]
  },
  {
   "cell_type": "code",
   "execution_count": null,
   "id": "cb55e724-0448-4748-acd2-2bd2a3eb809e",
   "metadata": {},
   "outputs": [],
   "source": [
    "#Seaborn\n",
    "g=sb.FacetGrid(data=df,col='col',hue='col2',col_wrap=6,sharey=False)\n",
    "g.map(plt.hist,'col',bins=6)"
   ]
  },
  {
   "cell_type": "markdown",
   "id": "64a7eb20-35e2-4c44-be46-9a757873dedf",
   "metadata": {},
   "source": [
    "## Heat Map"
   ]
  },
  {
   "cell_type": "code",
   "execution_count": null,
   "id": "af0c6173-689e-4dd7-afe7-de4f8f92d183",
   "metadata": {},
   "outputs": [],
   "source": [
    "#PLT\n",
    "bins_x=np.arange(0.6,7+0.6,0.6)\n",
    "bins_y=np.arange(0.2,8+0.2,0.2)\n",
    "plt.hist2d(data=df,x='col',y='col',cmin=0.6,cmap='viridis_r',bins=[bins_x,bins_y])\n",
    "plt.colorbar()"
   ]
  },
  {
   "cell_type": "markdown",
   "id": "5ca68d58-ece9-4157-998f-f455088f7d00",
   "metadata": {},
   "source": [
    "## Violin Chart"
   ]
  },
  {
   "cell_type": "code",
   "execution_count": null,
   "id": "f717a1ea-f183-4dd6-aaea-d26ff10a9e28",
   "metadata": {},
   "outputs": [],
   "source": [
    "#Seaborn\n",
    "sb.violinplot(data=df,x='col',y='col',color=base_color,inner=None)\n",
    "sb.violinplot(data=df,y='col',x='col',color=base_color,inner=None)\n",
    "plt.xticks(rotation=17)"
   ]
  },
  {
   "cell_type": "markdown",
   "id": "ffe7e097-2517-4638-86ae-49c1448e0f99",
   "metadata": {},
   "source": [
    "## Line Plot"
   ]
  },
  {
   "cell_type": "code",
   "execution_count": null,
   "id": "9e4494ae-3ef0-40cc-b640-240963b983bd",
   "metadata": {},
   "outputs": [],
   "source": [
    "#PLT\n",
    "plt.errorbar(data=df,x='xcol',y='ycol',yerr=comb_std)"
   ]
  },
  {
   "cell_type": "markdown",
   "id": "def08b98-0f71-49c5-b6e8-58d4d92c4cc7",
   "metadata": {},
   "source": [
    "## Multiple Charts"
   ]
  },
  {
   "cell_type": "code",
   "execution_count": null,
   "id": "0a8e9d3b-f921-400f-b360-cbf9ba1fe452",
   "metadata": {},
   "outputs": [],
   "source": [
    "#PLT\n",
    "plt.figure(figsize=[20,6])\n",
    "plt.subplot(1,2,1)\n",
    "#plot 1\n",
    "plt.subplot(1,2,2)\n",
    "#plot 2"
   ]
  },
  {
   "cell_type": "code",
   "execution_count": null,
   "id": "a92a6e8d-2b55-4618-9b2d-1bdc6973e5e5",
   "metadata": {},
   "outputs": [],
   "source": [
    "#A grid of subplots\n",
    "#4*3 grid of plots\n",
    "fig,axes=plt.subplot(3,4)"
   ]
  },
  {
   "cell_type": "markdown",
   "id": "e852e676-fc84-4b3f-934e-acbf5b96946f",
   "metadata": {},
   "source": [
    "## Scales&Transformation"
   ]
  },
  {
   "cell_type": "code",
   "execution_count": null,
   "id": "38d45e5b-7796-40d0-af0d-e6151908d8c0",
   "metadata": {},
   "outputs": [],
   "source": [
    "#PLT\n",
    "plt.xscale('linear',bins=np.arange(-1,3+0.1,0.1))\n",
    "ticks=[0.1,0.3,...1000]\n",
    "labels=[{''}.format(for i in ticks)]\n",
    "plt.xticks(ticks,labels)\n",
    "\n",
    "plt.xscale('linear') #1,2,3\n",
    "plt.xscale('log') #1,10,100\n",
    "plt.xscale('logit') #loge1/9,loge2/8...\n",
    "plt.xscale('symlog') #-100,-10,1,0,1,10,100..."
   ]
  },
  {
   "cell_type": "code",
   "execution_count": null,
   "id": "2e7e4b6d-b3d3-4f75-9017-19e5e5f740c5",
   "metadata": {},
   "outputs": [],
   "source": [
    "#Convert Discrete Date to Categorial Data\n",
    "bin_e=np.arange(0.6,7+0.2,0.2)\n",
    "bin_c=bin_e[:-1]+0.1 #exclude the last one\n",
    "df_bin=pd.cut(df['col'],bin_e,include_lowest=True)\n",
    "comb_mean=df['col'].groupby(df_bin).mean()"
   ]
  },
  {
   "cell_type": "markdown",
   "id": "f28cdba9-94e7-454a-aa2f-2415a990e714",
   "metadata": {},
   "source": [
    "## Filtering"
   ]
  },
  {
   "cell_type": "code",
   "execution_count": null,
   "id": "ff992d96-28b7-4232-ab49-08ebee49fb4b",
   "metadata": {},
   "outputs": [],
   "source": [
    "df_new=df.groupby(['col1','col2']).size()\n",
    "df_new=df_new.reset_index(name='count')\n",
    "df_new=df_new.pivot(index='row',columns='col',values='count', aggfunc=['mean', 'sum', 'count'])"
   ]
  },
  {
   "cell_type": "code",
   "execution_count": null,
   "id": "af0d92c9-5db9-4ce3-8b00-b6b0a4ed86ba",
   "metadata": {},
   "outputs": [],
   "source": [
    "order=['col1','col2'...]\n",
    "col_order=pd.api.types.CategoricalDtype(ordered=True, categories=order)\n",
    "df['col']=df['col'].astype(col_order)"
   ]
  },
  {
   "cell_type": "code",
   "execution_count": null,
   "id": "88c928b5-4fcc-4c5b-a219-d157bdfa9a64",
   "metadata": {},
   "outputs": [],
   "source": [
    "df_new=df.loc[df['col'].isin(['col1','col2',...])]\n",
    "df_new=df[df['col'].isin(df2['col6'])]"
   ]
  }
 ],
 "metadata": {
  "kernelspec": {
   "display_name": "Python 3 (ipykernel)",
   "language": "python",
   "name": "python3"
  },
  "language_info": {
   "codemirror_mode": {
    "name": "ipython",
    "version": 3
   },
   "file_extension": ".py",
   "mimetype": "text/x-python",
   "name": "python",
   "nbconvert_exporter": "python",
   "pygments_lexer": "ipython3",
   "version": "3.9.7"
  }
 },
 "nbformat": 4,
 "nbformat_minor": 5
}
